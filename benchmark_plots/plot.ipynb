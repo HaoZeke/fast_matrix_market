{
 "cells": [
  {
   "cell_type": "code",
   "execution_count": null,
   "metadata": {
    "collapsed": true
   },
   "outputs": [],
   "source": [
    "from pathlib import Path\n",
    "\n",
    "# Paste output from benchmark binary. This notebook parses and plots the benchmark results.\n",
    "benchmark_output = Path(f\"benchmark_output/output.json\")\n",
    "if not benchmark_output.is_file():\n",
    "    benchmark_output = Path(f\"benchmark_output_example/output.json\")\n",
    "\n",
    "save_images_used_in_readme = True\n",
    "figure_show_mode = 'svg' # 'svg' is inline and visible in GitHub, None is native interactive plotly plots that are not visible in GitHub and several MB in size"
   ]
  },
  {
   "cell_type": "code",
   "execution_count": null,
   "outputs": [],
   "source": [
    "def google_benchmark_output_to_dataframe(path: Path):\n",
    "    import json\n",
    "\n",
    "    everything = json.loads(path.read_text())\n",
    "\n",
    "    sequential = []\n",
    "    max_p = 1\n",
    "    # parse out interesting information\n",
    "    for bench in everything[\"benchmarks\"]:\n",
    "        # is the benchmark parallel\n",
    "        bench[\"parallel\"] = \"p:\" in bench[\"name\"]\n",
    "\n",
    "        name_parts = bench[\"name\"].split(\"/\")\n",
    "\n",
    "        bench[\"p\"] = 1\n",
    "        for part in name_parts:\n",
    "            if \":\" in part:\n",
    "                k, v = part.split(':')\n",
    "                bench[k] = int(v)\n",
    "        max_p = max(max_p, bench[\"p\"])\n",
    "\n",
    "        name = name_parts[0]\n",
    "        bench[\"name\"] = name\n",
    "\n",
    "        if \" \" in name:\n",
    "            bench[\"op\"] = name.split(\" \")[0]\n",
    "            bench[\"variant\"] = name.split(\" \")[1]\n",
    "        else:\n",
    "            bench[\"op\"] = name\n",
    "\n",
    "        if not bench[\"parallel\"]:\n",
    "            sequential.append(bench)\n",
    "\n",
    "    for bench in sequential:\n",
    "        dupe = dict(bench)\n",
    "        dupe[\"p\"] = max_p\n",
    "        everything[\"benchmarks\"].append(dupe)\n",
    "\n",
    "    res = pd.DataFrame(everything[\"benchmarks\"])\n",
    "    return res\n"
   ],
   "metadata": {
    "collapsed": false
   }
  },
  {
   "cell_type": "code",
   "execution_count": null,
   "outputs": [],
   "source": [
    "import pandas as pd\n",
    "import plotly.express as px\n",
    "\n",
    "df = google_benchmark_output_to_dataframe(benchmark_output)\n",
    "df.sort_values(by=['name', 'p'], ascending=True, inplace=True)"
   ],
   "metadata": {
    "collapsed": false
   }
  },
  {
   "cell_type": "code",
   "execution_count": null,
   "outputs": [],
   "source": [
    "\n",
    "for variant in \"read\", \"write\":\n",
    "    data = df.copy()\n",
    "    data = data[data[\"variant\"] == variant]\n",
    "    data[\"op_disp\"] = data[\"op\"].apply(lambda op: \"IOStream Triplet\" if op == \"IOStream\" else f\"FMM {op}\")\n",
    "    data.sort_values(by=['op_disp', 'p'], ascending=True, inplace=True)\n",
    "\n",
    "    fig = px.line(data, x='p', y='bytes_per_second', title=f\"{variant.title()} Parallelism\", color=\"op_disp\")\n",
    "    fig.update_layout(\n",
    "        yaxis = dict(\n",
    "            title=None,\n",
    "            ticksuffix = 'B/s',\n",
    "            rangemode = 'tozero',\n",
    "            tickformat = '~s'\n",
    "        ),\n",
    "        xaxis = dict(title='# of threads'),\n",
    "        legend=dict(\n",
    "            title=None,\n",
    "            yanchor=\"top\",\n",
    "            y=0.99,\n",
    "            xanchor=\"left\",\n",
    "            x=0.01\n",
    "        ),\n",
    "    )\n",
    "    fig.show(figure_show_mode)\n",
    "    if save_images_used_in_readme:\n",
    "        fig.write_image(f\"parallel-scaling-{variant}.svg\")"
   ],
   "metadata": {
    "collapsed": false
   }
  },
  {
   "cell_type": "code",
   "execution_count": null,
   "outputs": [],
   "source": [],
   "metadata": {
    "collapsed": false
   }
  }
 ],
 "metadata": {
  "kernelspec": {
   "display_name": "Python 3",
   "language": "python",
   "name": "python3"
  },
  "language_info": {
   "codemirror_mode": {
    "name": "ipython",
    "version": 2
   },
   "file_extension": ".py",
   "mimetype": "text/x-python",
   "name": "python",
   "nbconvert_exporter": "python",
   "pygments_lexer": "ipython2",
   "version": "2.7.6"
  }
 },
 "nbformat": 4,
 "nbformat_minor": 0
}
